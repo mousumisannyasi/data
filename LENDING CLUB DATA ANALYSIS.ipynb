{
 "cells": [
  {
   "cell_type": "code",
   "execution_count": null,
   "metadata": {
    "collapsed": true
   },
   "outputs": [],
   "source": [
    "%matplotlib inline\n",
    "import os\n",
    "import pandas as pd\n",
    "from matplotlib import pyplot as plt\n",
    "import numpy as np\n",
    "import math\n",
    "import seaborn as sns\n",
    "import matplotlib\n",
    "import sklearn"
   ]
  },
  {
   "cell_type": "code",
   "execution_count": null,
   "metadata": {
    "collapsed": true
   },
   "outputs": [],
   "source": [
    "import matplotlib"
   ]
  },
  {
   "cell_type": "code",
   "execution_count": null,
   "metadata": {
    "collapsed": true
   },
   "outputs": [],
   "source": [
    "import seaborn as sns"
   ]
  },
  {
   "cell_type": "code",
   "execution_count": 64,
   "metadata": {
    "collapsed": false
   },
   "outputs": [
    {
     "ename": "ValueError",
     "evalue": "labels ['id'] not contained in axis",
     "output_type": "error",
     "traceback": [
      "\u001b[0;31m---------------------------------------------------------------------------\u001b[0m",
      "\u001b[0;31mValueError\u001b[0m                                Traceback (most recent call last)",
      "\u001b[0;32m<ipython-input-64-2fe5f4d76ab0>\u001b[0m in \u001b[0;36m<module>\u001b[0;34m()\u001b[0m\n\u001b[1;32m      3\u001b[0m \u001b[0mdata\u001b[0m \u001b[0;34m=\u001b[0m \u001b[0mpd\u001b[0m\u001b[0;34m.\u001b[0m\u001b[0mread_csv\u001b[0m\u001b[0;34m(\u001b[0m\u001b[0;34m'loan.csv'\u001b[0m\u001b[0;34m,\u001b[0m \u001b[0mlow_memory\u001b[0m\u001b[0;34m=\u001b[0m\u001b[0;32mFalse\u001b[0m\u001b[0;34m,\u001b[0m \u001b[0mindex_col\u001b[0m\u001b[0;34m=\u001b[0m\u001b[0;34m'id'\u001b[0m\u001b[0;34m,\u001b[0m\u001b[0mparse_dates\u001b[0m \u001b[0;34m=\u001b[0m \u001b[0mdate_cols\u001b[0m\u001b[0;34m,\u001b[0m \u001b[0minfer_datetime_format\u001b[0m\u001b[0;34m=\u001b[0m\u001b[0;32mTrue\u001b[0m\u001b[0;34m)\u001b[0m\u001b[0;34m\u001b[0m\u001b[0m\n\u001b[1;32m      4\u001b[0m \u001b[0;34m\u001b[0m\u001b[0m\n\u001b[0;32m----> 5\u001b[0;31m \u001b[0mdata\u001b[0m\u001b[0;34m.\u001b[0m\u001b[0mdrop\u001b[0m\u001b[0;34m(\u001b[0m\u001b[0;34m[\u001b[0m\u001b[0;34m'id'\u001b[0m\u001b[0;34m,\u001b[0m \u001b[0;34m'member_id'\u001b[0m\u001b[0;34m,\u001b[0m \u001b[0;34m'emp_title'\u001b[0m\u001b[0;34m]\u001b[0m\u001b[0;34m,\u001b[0m \u001b[0maxis\u001b[0m\u001b[0;34m=\u001b[0m\u001b[0;36m1\u001b[0m\u001b[0;34m,\u001b[0m \u001b[0minplace\u001b[0m\u001b[0;34m=\u001b[0m\u001b[0;32mTrue\u001b[0m\u001b[0;34m)\u001b[0m\u001b[0;34m\u001b[0m\u001b[0m\n\u001b[0m\u001b[1;32m      6\u001b[0m \u001b[0;34m\u001b[0m\u001b[0m\n\u001b[1;32m      7\u001b[0m \u001b[0mdata\u001b[0m\u001b[0;34m.\u001b[0m\u001b[0mreplace\u001b[0m\u001b[0;34m(\u001b[0m\u001b[0;34m'n/a'\u001b[0m\u001b[0;34m,\u001b[0m \u001b[0mnp\u001b[0m\u001b[0;34m.\u001b[0m\u001b[0mnan\u001b[0m\u001b[0;34m,\u001b[0m\u001b[0minplace\u001b[0m\u001b[0;34m=\u001b[0m\u001b[0;32mTrue\u001b[0m\u001b[0;34m)\u001b[0m\u001b[0;34m\u001b[0m\u001b[0m\n",
      "\u001b[0;32m/Users/owner/anaconda/lib/python3.5/site-packages/pandas/core/generic.py\u001b[0m in \u001b[0;36mdrop\u001b[0;34m(self, labels, axis, level, inplace, errors)\u001b[0m\n\u001b[1;32m   1615\u001b[0m                 \u001b[0mnew_axis\u001b[0m \u001b[0;34m=\u001b[0m \u001b[0maxis\u001b[0m\u001b[0;34m.\u001b[0m\u001b[0mdrop\u001b[0m\u001b[0;34m(\u001b[0m\u001b[0mlabels\u001b[0m\u001b[0;34m,\u001b[0m \u001b[0mlevel\u001b[0m\u001b[0;34m=\u001b[0m\u001b[0mlevel\u001b[0m\u001b[0;34m,\u001b[0m \u001b[0merrors\u001b[0m\u001b[0;34m=\u001b[0m\u001b[0merrors\u001b[0m\u001b[0;34m)\u001b[0m\u001b[0;34m\u001b[0m\u001b[0m\n\u001b[1;32m   1616\u001b[0m             \u001b[0;32melse\u001b[0m\u001b[0;34m:\u001b[0m\u001b[0;34m\u001b[0m\u001b[0m\n\u001b[0;32m-> 1617\u001b[0;31m                 \u001b[0mnew_axis\u001b[0m \u001b[0;34m=\u001b[0m \u001b[0maxis\u001b[0m\u001b[0;34m.\u001b[0m\u001b[0mdrop\u001b[0m\u001b[0;34m(\u001b[0m\u001b[0mlabels\u001b[0m\u001b[0;34m,\u001b[0m \u001b[0merrors\u001b[0m\u001b[0;34m=\u001b[0m\u001b[0merrors\u001b[0m\u001b[0;34m)\u001b[0m\u001b[0;34m\u001b[0m\u001b[0m\n\u001b[0m\u001b[1;32m   1618\u001b[0m             \u001b[0mdropped\u001b[0m \u001b[0;34m=\u001b[0m \u001b[0mself\u001b[0m\u001b[0;34m.\u001b[0m\u001b[0mreindex\u001b[0m\u001b[0;34m(\u001b[0m\u001b[0;34m**\u001b[0m\u001b[0;34m{\u001b[0m\u001b[0maxis_name\u001b[0m\u001b[0;34m:\u001b[0m \u001b[0mnew_axis\u001b[0m\u001b[0;34m}\u001b[0m\u001b[0;34m)\u001b[0m\u001b[0;34m\u001b[0m\u001b[0m\n\u001b[1;32m   1619\u001b[0m             \u001b[0;32mtry\u001b[0m\u001b[0;34m:\u001b[0m\u001b[0;34m\u001b[0m\u001b[0m\n",
      "\u001b[0;32m/Users/owner/anaconda/lib/python3.5/site-packages/pandas/core/index.py\u001b[0m in \u001b[0;36mdrop\u001b[0;34m(self, labels, errors)\u001b[0m\n\u001b[1;32m   2801\u001b[0m         \u001b[0;32mif\u001b[0m \u001b[0mmask\u001b[0m\u001b[0;34m.\u001b[0m\u001b[0many\u001b[0m\u001b[0;34m(\u001b[0m\u001b[0;34m)\u001b[0m\u001b[0;34m:\u001b[0m\u001b[0;34m\u001b[0m\u001b[0m\n\u001b[1;32m   2802\u001b[0m             \u001b[0;32mif\u001b[0m \u001b[0merrors\u001b[0m \u001b[0;34m!=\u001b[0m \u001b[0;34m'ignore'\u001b[0m\u001b[0;34m:\u001b[0m\u001b[0;34m\u001b[0m\u001b[0m\n\u001b[0;32m-> 2803\u001b[0;31m                 \u001b[0;32mraise\u001b[0m \u001b[0mValueError\u001b[0m\u001b[0;34m(\u001b[0m\u001b[0;34m'labels %s not contained in axis'\u001b[0m \u001b[0;34m%\u001b[0m \u001b[0mlabels\u001b[0m\u001b[0;34m[\u001b[0m\u001b[0mmask\u001b[0m\u001b[0;34m]\u001b[0m\u001b[0;34m)\u001b[0m\u001b[0;34m\u001b[0m\u001b[0m\n\u001b[0m\u001b[1;32m   2804\u001b[0m             \u001b[0mindexer\u001b[0m \u001b[0;34m=\u001b[0m \u001b[0mindexer\u001b[0m\u001b[0;34m[\u001b[0m\u001b[0;34m~\u001b[0m\u001b[0mmask\u001b[0m\u001b[0;34m]\u001b[0m\u001b[0;34m\u001b[0m\u001b[0m\n\u001b[1;32m   2805\u001b[0m         \u001b[0;32mreturn\u001b[0m \u001b[0mself\u001b[0m\u001b[0;34m.\u001b[0m\u001b[0mdelete\u001b[0m\u001b[0;34m(\u001b[0m\u001b[0mindexer\u001b[0m\u001b[0;34m)\u001b[0m\u001b[0;34m\u001b[0m\u001b[0m\n",
      "\u001b[0;31mValueError\u001b[0m: labels ['id'] not contained in axis"
     ]
    }
   ],
   "source": [
    "#data = pd.read_csv('loan.csv', low_memory=False)\n",
    "date_cols = ['issue_d', 'earliest_cr_line', 'last_pymnt_d', 'next_pymnt_d', 'last_credit_pull_d']\n",
    "data = pd.read_csv('loan.csv', low_memory=False, index_col='id',parse_dates = date_cols, infer_datetime_format=True)\n",
    "\n",
    "data.drop(['id', 'member_id', 'emp_title'], axis=1, inplace=True)\n",
    "\n",
    "data.replace('n/a', np.nan,inplace=True)\n",
    "print(\"Dataset size: {}\".format(data.shape))\n",
    "print(data.head())\n",
    "data.emp_length.fillna(value=0,inplace=True)\n",
    "\n",
    "data['emp_length'].replace(to_replace='[^0-9]+', value='', inplace=True, regex=True)\n",
    "data['emp_length'] = data['emp_length'].astype(int)\n",
    "\n",
    "data['term'] = data['term'].apply(lambda x: x.lstrip())"
   ]
  },
  {
   "cell_type": "code",
   "execution_count": null,
   "metadata": {
    "collapsed": false
   },
   "outputs": [],
   "source": [
    "# What columns do we have?\n",
    "print(\"{} columns: {}\".format(len(data.columns), data.columns))"
   ]
  },
  {
   "cell_type": "code",
   "execution_count": 55,
   "metadata": {
    "collapsed": false
   },
   "outputs": [
    {
     "data": {
      "text/plain": [
       "<matplotlib.axes._subplots.AxesSubplot at 0x146944da0>"
      ]
     },
     "execution_count": 55,
     "metadata": {},
     "output_type": "execute_result"
    },
    {
     "data": {
      "image/png": "[encoded data removed]",
      "text/plain": [
       "<matplotlib.figure.Figure at 0x114cd7fd0>"
      ]
     },
     "metadata": {},
     "output_type": "display_data"
    }
   ],
   "source": [
    "data['loan_amnt'].hist(bins=10) #exploratory analysis"
   ]
  },
  {
   "cell_type": "code",
   "execution_count": 57,
   "metadata": {
    "collapsed": false
   },
   "outputs": [
    {
     "data": {
      "text/plain": [
       "<matplotlib.axes._subplots.AxesSubplot at 0x114e14278>"
      ]
     },
     "execution_count": 57,
     "metadata": {},
     "output_type": "execute_result"
    },
    {
     "data": {
      "image/png": "[encoded data removed]",
      "text/plain": [
       "<matplotlib.figure.Figure at 0x114e19ba8>"
      ]
     },
     "metadata": {},
     "output_type": "display_data"
    }
   ],
   "source": [
    "data['int_rate'].hist(bins=50)"
   ]
  },
  {
   "cell_type": "code",
   "execution_count": 58,
   "metadata": {
    "collapsed": false
   },
   "outputs": [
    {
     "name": "stderr",
     "output_type": "stream",
     "text": [
      "/Users/owner/anaconda/lib/python3.5/site-packages/ipykernel/__main__.py:1: FutureWarning: \n",
      "The default value for 'return_type' will change to 'axes' in a future release.\n",
      " To use the future behavior now, set return_type='axes'.\n",
      " To keep the previous behavior and silence this warning, set return_type='dict'.\n",
      "  if __name__ == '__main__':\n"
     ]
    },
    {
     "data": {
      "text/plain": [
       "{'boxes': [<matplotlib.lines.Line2D at 0x114de1a90>],\n",
       " 'caps': [<matplotlib.lines.Line2D at 0x114dcde80>,\n",
       "  <matplotlib.lines.Line2D at 0x114dd2e10>],\n",
       " 'fliers': [<matplotlib.lines.Line2D at 0x114dc8e10>],\n",
       " 'means': [],\n",
       " 'medians': [<matplotlib.lines.Line2D at 0x114dd2f60>],\n",
       " 'whiskers': [<matplotlib.lines.Line2D at 0x114de1c88>,\n",
       "  <matplotlib.lines.Line2D at 0x114dcdd30>]}"
      ]
     },
     "execution_count": 58,
     "metadata": {},
     "output_type": "execute_result"
    },
    {
     "data": {
      "image/png": "[encoded data removed]",
      "text/plain": [
       "<matplotlib.figure.Figure at 0x133b5c940>"
      ]
     },
     "metadata": {},
     "output_type": "display_data"
    }
   ],
   "source": [
    "data.boxplot(column='int_rate')"
   ]
  },
  {
   "cell_type": "code",
   "execution_count": 59,
   "metadata": {
    "collapsed": false
   },
   "outputs": [
    {
     "data": {
      "text/plain": [
       "<matplotlib.axes._subplots.AxesSubplot at 0x114dfab38>"
      ]
     },
     "execution_count": 59,
     "metadata": {},
     "output_type": "execute_result"
    },
    {
     "data": {
      "image/png": "[encoded data removed]",
      "text/plain": [
       "<matplotlib.figure.Figure at 0x114df1f98>"
      ]
     },
     "metadata": {},
     "output_type": "display_data"
    }
   ],
   "source": [
    "data.boxplot(column='int_rate', by = 'term')"
   ]
  },
  {
   "cell_type": "code",
   "execution_count": 61,
   "metadata": {
    "collapsed": false
   },
   "outputs": [
    {
     "data": {
      "text/plain": [
       "<matplotlib.text.Text at 0x14690c9b0>"
      ]
     },
     "execution_count": 61,
     "metadata": {},
     "output_type": "execute_result"
    },
    {
     "data": {
      "image/png": "[encoded data removed]",
      "text/plain": [
       "<matplotlib.figure.Figure at 0x146926160>"
      ]
     },
     "metadata": {},
     "output_type": "display_data"
    }
   ],
   "source": [
    "#Plotting interest rate vs dti. Would have expected higher DTI to have higher interest rates\n",
    "plt.scatter(data.int_rate, data.dti)\n",
    "plt.xlim(5,30)\n",
    "plt.ylim(0,80)\n",
    "plt.xlabel('DTI')\n",
    "plt.ylabel('Interest Rate')"
   ]
  },
  {
   "cell_type": "code",
   "execution_count": 62,
   "metadata": {
    "collapsed": false
   },
   "outputs": [
    {
     "ename": "AttributeError",
     "evalue": "'DataFrame' object has no attribute 'addr_state'",
     "output_type": "error",
     "traceback": [
      "\u001b[0;31m---------------------------------------------------------------------------\u001b[0m",
      "\u001b[0;31mAttributeError\u001b[0m                            Traceback (most recent call last)",
      "\u001b[0;32m<ipython-input-62-ef125d3c82a5>\u001b[0m in \u001b[0;36m<module>\u001b[0;34m()\u001b[0m\n\u001b[0;32m----> 1\u001b[0;31m \u001b[0mstate_count\u001b[0m \u001b[0;34m=\u001b[0m \u001b[0mdata\u001b[0m\u001b[0;34m.\u001b[0m\u001b[0maddr_state\u001b[0m\u001b[0;34m.\u001b[0m\u001b[0mvalue_counts\u001b[0m\u001b[0;34m(\u001b[0m\u001b[0;34m)\u001b[0m\u001b[0;34m\u001b[0m\u001b[0m\n\u001b[0m\u001b[1;32m      2\u001b[0m \u001b[0;34m\u001b[0m\u001b[0m\n\u001b[1;32m      3\u001b[0m \u001b[0mstate_count\u001b[0m\u001b[0;34m.\u001b[0m\u001b[0mplot\u001b[0m\u001b[0;34m(\u001b[0m\u001b[0mkind\u001b[0m \u001b[0;34m=\u001b[0m \u001b[0;34m'bar'\u001b[0m\u001b[0;34m,\u001b[0m\u001b[0mfigsize\u001b[0m\u001b[0;34m=\u001b[0m\u001b[0;34m(\u001b[0m\u001b[0;36m16\u001b[0m\u001b[0;34m,\u001b[0m\u001b[0;36m8\u001b[0m\u001b[0;34m)\u001b[0m\u001b[0;34m,\u001b[0m \u001b[0mtitle\u001b[0m \u001b[0;34m=\u001b[0m \u001b[0;34m'Loans per State'\u001b[0m\u001b[0;34m)\u001b[0m\u001b[0;34m\u001b[0m\u001b[0m\n",
      "\u001b[0;32m/Users/owner/anaconda/lib/python3.5/site-packages/pandas/core/generic.py\u001b[0m in \u001b[0;36m__getattr__\u001b[0;34m(self, name)\u001b[0m\n\u001b[1;32m   2358\u001b[0m                 \u001b[0;32mreturn\u001b[0m \u001b[0mself\u001b[0m\u001b[0;34m[\u001b[0m\u001b[0mname\u001b[0m\u001b[0;34m]\u001b[0m\u001b[0;34m\u001b[0m\u001b[0m\n\u001b[1;32m   2359\u001b[0m             raise AttributeError(\"'%s' object has no attribute '%s'\" %\n\u001b[0;32m-> 2360\u001b[0;31m                                  (type(self).__name__, name))\n\u001b[0m\u001b[1;32m   2361\u001b[0m \u001b[0;34m\u001b[0m\u001b[0m\n\u001b[1;32m   2362\u001b[0m     \u001b[0;32mdef\u001b[0m \u001b[0m__setattr__\u001b[0m\u001b[0;34m(\u001b[0m\u001b[0mself\u001b[0m\u001b[0;34m,\u001b[0m \u001b[0mname\u001b[0m\u001b[0;34m,\u001b[0m \u001b[0mvalue\u001b[0m\u001b[0;34m)\u001b[0m\u001b[0;34m:\u001b[0m\u001b[0;34m\u001b[0m\u001b[0m\n",
      "\u001b[0;31mAttributeError\u001b[0m: 'DataFrame' object has no attribute 'addr_state'"
     ]
    }
   ],
   "source": [
    "state_count = data.addr_state.value_counts()\n",
    "\n",
    "state_count.plot(kind = 'bar',figsize=(16,8), title = 'Loans per State')"
   ]
  },
  {
   "cell_type": "code",
   "execution_count": null,
   "metadata": {
    "collapsed": true
   },
   "outputs": [],
   "source": [
    "# total missing value exploration by each column\n",
    "#df.apply(lambda x: sum(x.isnull()),axis=0)\n",
    "# I feel good getting around to this shit.\n",
    "## I need to find all of the missing values in the dataset"
   ]
  },
  {
   "cell_type": "code",
   "execution_count": 32,
   "metadata": {
    "collapsed": false
   },
   "outputs": [
    {
     "name": "stdout",
     "output_type": "stream",
     "text": [
      "['loan_amnt', 'term', 'int_rate', 'installment', 'emp_length']\n",
      "count    887379.000000\n",
      "mean      14755.264605\n",
      "std        8435.455601\n",
      "min         500.000000\n",
      "25%        8000.000000\n",
      "50%       13000.000000\n",
      "75%       20000.000000\n",
      "max       35000.000000\n",
      "Name: loan_amnt, dtype: float64\n",
      "count         887379\n",
      "unique             2\n",
      "top        36 months\n",
      "freq          621125\n",
      "Name: term, dtype: object\n",
      "count    887379.000000\n",
      "mean         13.246740\n",
      "std           4.381867\n",
      "min           5.320000\n",
      "25%           9.990000\n",
      "50%          12.990000\n",
      "75%          16.200000\n",
      "max          28.990000\n",
      "Name: int_rate, dtype: float64\n",
      "count    887379.000000\n",
      "mean        436.717127\n",
      "std         244.186593\n",
      "min          15.670000\n",
      "25%         260.705000\n",
      "50%         382.550000\n",
      "75%         572.600000\n",
      "max        1445.460000\n",
      "Name: installment, dtype: float64\n",
      "count        887379\n",
      "unique           12\n",
      "top       10+ years\n",
      "freq         291569\n",
      "Name: emp_length, dtype: object\n"
     ]
    }
   ],
   "source": [
    "# Let's take a look at the different columns and what data they contain\n",
    "#cols = loans.columns[0:10]  # cycle through 0:10, 10:20, ...\n",
    "cols = ['loan_amnt', 'term', 'int_rate', 'installment', 'emp_length']  # or pick specific columns\n",
    "print(cols)\n",
    "for col in cols:\n",
    "    print(data[col].describe())  # describe one by one in case of mixed types"
   ]
  },
  {
   "cell_type": "code",
   "execution_count": 33,
   "metadata": {
    "collapsed": false
   },
   "outputs": [
    {
     "name": "stdout",
     "output_type": "stream",
     "text": [
      "term before:-\n",
      "id\n",
      "1077501     36 months\n",
      "1077430     60 months\n",
      "1077175     36 months\n",
      "1076863     36 months\n",
      "1075358     60 months\n",
      "Name: term, dtype: object\n",
      "term after:-\n",
      "id\n",
      "1077501    36\n",
      "1077430    60\n",
      "1077175    36\n",
      "1076863    36\n",
      "1075358    60\n",
      "Name: term, dtype: int64\n"
     ]
    }
   ],
   "source": [
    "# Parse term durations: ' 36 months' -> 36 (numeric)\n",
    "print(\"term before:-\")\n",
    "print(data.term.head())\n",
    "data.term = pd.to_numeric(data.term.str[:3])\n",
    "print(\"term after:-\")\n",
    "print(data.term.head())"
   ]
  },
  {
   "cell_type": "code",
   "execution_count": 37,
   "metadata": {
    "collapsed": false
   },
   "outputs": [
    {
     "name": "stdout",
     "output_type": "stream",
     "text": [
      "emp_length before:-\n",
      "id\n",
      "1077501    10+ years\n",
      "1077430     < 1 year\n",
      "1077175    10+ years\n",
      "1076863    10+ years\n",
      "1075358       1 year\n",
      "Name: emp_length, dtype: object\n",
      "emp_length after:-\n",
      "id\n",
      "1077501    10\n",
      "1077430     1\n",
      "1077175    10\n",
      "1076863    10\n",
      "1075358     1\n",
      "Name: emp_length, dtype: float64\n"
     ]
    }
   ],
   "source": [
    "# Parse emp_length: '< 1 year' -> 1.0, '1 year' -> 1.0, '7 year' -> 7.0, etc. (numeric)\n",
    "print(\"emp_length before:-\")\n",
    "print(data.emp_length.head())\n",
    "data.emp_length = data.emp_length.str.extract(\"(\\d+)\").map(float)\n",
    "print(\"emp_length after:-\")\n",
    "print(data.emp_length.head())"
   ]
  },
  {
   "cell_type": "code",
   "execution_count": 38,
   "metadata": {
    "collapsed": false
   },
   "outputs": [
    {
     "name": "stdout",
     "output_type": "stream",
     "text": [
      "loan_status\n",
      "Charged Off                                             45248\n",
      "Current                                                601779\n",
      "Default                                                  1219\n",
      "Does not meet the credit policy. Status:Charged Off       761\n",
      "Does not meet the credit policy. Status:Fully Paid       1988\n",
      "Fully Paid                                             207723\n",
      "In Grace Period                                          6253\n",
      "Issued                                                   8460\n",
      "Late (16-30 days)                                        2357\n",
      "Late (31-120 days)                                      11591\n",
      "Name: loan_status, dtype: int64\n"
     ]
    },
    {
     "data": {
      "text/plain": [
       "<matplotlib.axes._subplots.AxesSubplot at 0x134cdb278>"
      ]
     },
     "execution_count": 38,
     "metadata": {},
     "output_type": "execute_result"
    },
    {
     "data": {
      "image/png": "[encoded data removed]",
      "text/plain": [
       "<matplotlib.figure.Figure at 0x1033d2518>"
      ]
     },
     "metadata": {},
     "output_type": "display_data"
    }
   ],
   "source": [
    "# What is the distribution of loans by status?\n",
    "loans_by_status = data.groupby('loan_status')\n",
    "print(loans_by_status['loan_status'].count())\n",
    "loans_by_status['loan_status'].count().plot(kind='bar')"
   ]
  },
  {
   "cell_type": "code",
   "execution_count": 39,
   "metadata": {
    "collapsed": false
   },
   "outputs": [
    {
     "name": "stdout",
     "output_type": "stream",
     "text": [
      "purpose\n",
      "car                     8863\n",
      "credit_card           206182\n",
      "debt_consolidation    524215\n",
      "educational              423\n",
      "home_improvement       51829\n",
      "house                   3707\n",
      "major_purchase         17277\n",
      "medical                 8540\n",
      "moving                  5414\n",
      "other                  42894\n",
      "renewable_energy         575\n",
      "small_business         10377\n",
      "vacation                4736\n",
      "wedding                 2347\n",
      "Name: purpose, dtype: int64\n"
     ]
    },
    {
     "data": {
      "text/plain": [
       "<matplotlib.axes._subplots.AxesSubplot at 0x133be1f60>"
      ]
     },
     "execution_count": 39,
     "metadata": {},
     "output_type": "execute_result"
    },
    {
     "data": {
      "image/png": "[encoded data removed]",
      "text/plain": [
       "<matplotlib.figure.Figure at 0x133bdb588>"
      ]
     },
     "metadata": {},
     "output_type": "display_data"
    }
   ],
   "source": [
    "# What is the distribution of loans by purpose?\n",
    "loans_by_purpose = data.groupby('purpose')\n",
    "print(loans_by_purpose['purpose'].count())\n",
    "loans_by_purpose['purpose'].count().plot(kind='bar')"
   ]
  },
  {
   "cell_type": "code",
   "execution_count": 40,
   "metadata": {
    "collapsed": false
   },
   "outputs": [
    {
     "name": "stdout",
     "output_type": "stream",
     "text": [
      "term\n",
      "36    621125\n",
      "60    266254\n",
      "Name: term, dtype: int64\n"
     ]
    },
    {
     "data": {
      "text/plain": [
       "<matplotlib.axes._subplots.AxesSubplot at 0x133b89668>"
      ]
     },
     "execution_count": 40,
     "metadata": {},
     "output_type": "execute_result"
    },
    {
     "data": {
      "image/png": "[encoded data removed]",
      "text/plain": [
       "<matplotlib.figure.Figure at 0x133bdee80>"
      ]
     },
     "metadata": {},
     "output_type": "display_data"
    }
   ],
   "source": [
    "# What is the distribution of loans by term?\n",
    "loans_by_term = data.groupby('term')\n",
    "print(loans_by_term['term'].count())\n",
    "loans_by_term['term'].count().plot(kind='bar')"
   ]
  },
  {
   "cell_type": "code",
   "execution_count": 41,
   "metadata": {
    "collapsed": false
   },
   "outputs": [
    {
     "name": "stdout",
     "output_type": "stream",
     "text": [
      "20814 loans were issued from 2007-06-01 to 2010-12-31\n",
      "loan_status\n",
      "Charged Off                                             2369\n",
      "Current                                                    7\n",
      "Default                                                    1\n",
      "Does not meet the credit policy. Status:Charged Off      761\n",
      "Does not meet the credit policy. Status:Fully Paid      1988\n",
      "Fully Paid                                             15681\n",
      "Late (16-30 days)                                          2\n",
      "Late (31-120 days)                                         5\n",
      "Name: loan_status, dtype: int64\n"
     ]
    }
   ],
   "source": [
    "#Binary Classification Task¶\n",
    "#Goal: Predict loans at application stage that will default\n",
    "# Select loans issued within desired date range\n",
    "#loans.issue_d.describe()  # dataset range: 2007-06-01 to 2015-12-01\n",
    "import datetime\n",
    "\n",
    "#data.issue_d.fillna(value=np.nan,inplace=True)\n",
    "#issue_d_todate = pd.to_datetime(data.issue_d)\n",
    "#data.issue_d = pd.Series(data.issue_d).str.replace('-2015', '')\n",
    "#data.emp_length.fillna(value=np.nan,inplace=True)\n",
    "\n",
    "#data.drop(['loan_status'],1, inplace=True)\n",
    "\n",
    "#data.drop(['pymnt_plan','url','desc','title' ],1, inplace=True)\n",
    "\n",
    "#data.earliest_cr_line = pd.to_datetime(data.earliest_cr_line)\n",
    "import datetime as dt\n",
    "#data['earliest_cr_line_year'] = data['earliest_cr_line'].dt.year\n",
    "#date_cols = ['issue_d', 'earliest_cr_line', 'last_pymnt_d', 'next_pymnt_d', 'last_credit_pull_d']\n",
    "#data = pd.read_csv(\"loan.csv\", low_memory=False, index_col='id',parse_dates = date_cols, infer_datetime_format=True)\n",
    "\n",
    "range_selected = ('2007-06-01', '2010-12-31')\n",
    "loans_selected = data.loc[(range_selected[0] <= data.issue_d) & (data.issue_d<= range_selected[1])]\n",
    "print(\"{num} loans were issued from {range[0]} to {range[1]}\".format(num=len(loans_selected), range=range_selected))\n",
    "\n",
    "# What is their distribution by status?\n",
    "print(loans_selected.groupby('loan_status')['loan_status'].count())"
   ]
  },
  {
   "cell_type": "code",
   "execution_count": 42,
   "metadata": {
    "collapsed": false
   },
   "outputs": [
    {
     "name": "stdout",
     "output_type": "stream",
     "text": [
      "20814 loans were issued from 2007-06-01 to 2010-12-31\n",
      "loan_status\n",
      "Charged Off                                             2369\n",
      "Current                                                    7\n",
      "Default                                                    1\n",
      "Does not meet the credit policy. Status:Charged Off      761\n",
      "Does not meet the credit policy. Status:Fully Paid      1988\n",
      "Fully Paid                                             15681\n",
      "Late (16-30 days)                                          2\n",
      "Late (31-120 days)                                         5\n",
      "Name: loan_status, dtype: int64\n"
     ]
    }
   ],
   "source": [
    "range_selected = ('2007-06-01', '2010-12-31')\n",
    "loans_selected = data.loc[(range_selected[0] <= data.issue_d) & (data.issue_d<= range_selected[1])]\n",
    "print(\"{num} loans were issued from {range[0]} to {range[1]}\".format(num=len(loans_selected), range=range_selected))\n",
    "\n",
    "# What is their distribution by status?\n",
    "print(loans_selected.groupby('loan_status')['loan_status'].count())"
   ]
  },
  {
   "cell_type": "code",
   "execution_count": 43,
   "metadata": {
    "collapsed": false
   },
   "outputs": [
    {
     "name": "stdout",
     "output_type": "stream",
     "text": [
      "Data subset size: (18050, 74)\n"
     ]
    }
   ],
   "source": [
    "# Let's setup a binary classification target 'default': 0 => Fully Paid, 1 => Charged Off\n",
    "loans_subset = loans_selected.copy()\n",
    "loans_subset['default'] = None\n",
    "loans_subset.loc[(loans_subset.loan_status == 'Fully Paid') | (loans_subset.loan_status == 'Does not meet the credit policy.Status:Fully Paid'), 'default'] = 0\n",
    "loans_subset.loc[(loans_subset.loan_status == 'Charged Off') | (loans_subset.loan_status == 'Does not meet the credit policy.Status:Charged Off'), 'default'] = 1\n",
    "\n",
    "# Drop loans that haven't been terminated yet (we don't know what their final status will be)\n",
    "loans_subset = loans_subset[~loans_subset.default.isnull()]\n",
    "print(\"Data subset size: {}\".format(loans_subset.shape))\n",
    "\n",
    "# Re-encode 'default' column as numeric (0 or 1)\n",
    "loans_subset['default'] = pd.to_numeric(loans_subset['default'])"
   ]
  },
  {
   "cell_type": "code",
   "execution_count": null,
   "metadata": {
    "collapsed": false
   },
   "outputs": [],
   "source": []
  },
  {
   "cell_type": "code",
   "execution_count": 44,
   "metadata": {
    "collapsed": false
   },
   "outputs": [
    {
     "name": "stdout",
     "output_type": "stream",
     "text": [
      "default\n",
      "0    15681\n",
      "1     2369\n",
      "Name: default, dtype: int64\n"
     ]
    }
   ],
   "source": [
    "print(loans_subset.groupby('default')['default'].count())"
   ]
  },
  {
   "cell_type": "code",
   "execution_count": null,
   "metadata": {
    "collapsed": true
   },
   "outputs": [],
   "source": []
  },
  {
   "cell_type": "code",
   "execution_count": 45,
   "metadata": {
    "collapsed": false
   },
   "outputs": [
    {
     "name": "stdout",
     "output_type": "stream",
     "text": [
      "Final dataset: 13 features, 17692 samples\n",
      "        loan_amnt  term  int_rate  installment             purpose  \\\n",
      "id                                                                   \n",
      "643218      20000    60      9.99       424.85  debt_consolidation   \n",
      "642872       7475    60     13.72       172.85  debt_consolidation   \n",
      "642861       5575    36     15.20       193.81      small_business   \n",
      "642859       2150    60     14.83        50.96  debt_consolidation   \n",
      "642857       7050    60     12.98       160.34              moving   \n",
      "\n",
      "        emp_length home_ownership  annual_inc    dti  revol_bal  revol_util  \\\n",
      "id                                                                            \n",
      "643218           7       MORTGAGE       45000  13.36      12761        39.5   \n",
      "642872           1            OWN      145000  17.39      42581        44.8   \n",
      "642861           1       MORTGAGE      120000  16.40      10611        48.0   \n",
      "642859           1           RENT      120000   6.16      20020        57.9   \n",
      "642857           1       MORTGAGE      140000   4.26         78         0.2   \n",
      "\n",
      "       verification_status  default  \n",
      "id                                   \n",
      "643218            Verified        0  \n",
      "642872        Not Verified        0  \n",
      "642861        Not Verified        0  \n",
      "642859        Not Verified        0  \n",
      "642857        Not Verified        0  \n",
      "Final class distribution (after dropping nulls):\n",
      "            ratio  count\n",
      "default                 \n",
      "0        0.870959  15409\n",
      "1        0.129041   2283\n",
      "12 features: Index(['loan_amnt', 'term', 'int_rate', 'installment', 'purpose', 'emp_length',\n",
      "       'home_ownership', 'annual_inc', 'dti', 'revol_bal', 'revol_util',\n",
      "       'verification_status'],\n",
      "      dtype='object')\n",
      "Target: default\n"
     ]
    },
    {
     "name": "stderr",
     "output_type": "stream",
     "text": [
      "/Users/owner/anaconda/lib/python3.5/site-packages/ipykernel/__main__.py:19: SettingWithCopyWarning: \n",
      "A value is trying to be set on a copy of a slice from a DataFrame\n",
      "\n",
      "See the caveats in the documentation: http://pandas.pydata.org/pandas-docs/stable/indexing.html#indexing-view-versus-copy\n"
     ]
    }
   ],
   "source": [
    "# Specify a subset of feature columns and a target to predict ('default')\n",
    "feature_cols = [\n",
    "    'loan_amnt', 'term', 'int_rate', 'installment', 'purpose',\n",
    "    #'emp_title', # free text\n",
    "    'emp_length', 'home_ownership',\n",
    "    #'zip_code', 'addr_state',  # categorical, but too many levels\n",
    "    'annual_inc', 'dti',\n",
    "    'revol_bal', 'revol_util',\n",
    "    'verification_status'\n",
    "]\n",
    "\n",
    "target_col = 'default'\n",
    "\n",
    "# Create the final dataset we'll use for classification\n",
    "keep_cols = feature_cols + [target_col]\n",
    "data = loans_subset[keep_cols]\n",
    "\n",
    "# Drop samples with null values (few enough that we can ignore)\n",
    "data.dropna(inplace=True)\n",
    "\n",
    "print(\"Final dataset: {} features, {} samples\".format(len(data.columns), len(data)))\n",
    "print(data.head())\n",
    "print(\"Final class distribution (after dropping nulls):\")\n",
    "class_counts = data.groupby(target_col)[target_col].agg({\n",
    "    'count': len,\n",
    "    'ratio': lambda x: float(len(x)) / len(data)\n",
    "})\n",
    "print(class_counts)\n",
    "\n",
    "# Extract desired features and target column\n",
    "X = data[feature_cols]\n",
    "y = data[target_col]\n",
    "print(\"{} features: {}\".format(len(X.columns), X.columns))\n",
    "print(\"Target: {}\".format(y.name))"
   ]
  },
  {
   "cell_type": "code",
   "execution_count": 46,
   "metadata": {
    "collapsed": false
   },
   "outputs": [
    {
     "name": "stdout",
     "output_type": "stream",
     "text": [
      "31 features after encoding categorical variables: Index(['loan_amnt', 'term', 'int_rate', 'installment', 'emp_length',\n",
      "       'annual_inc', 'dti', 'revol_bal', 'revol_util',\n",
      "       'home_ownership_MORTGAGE', 'home_ownership_NONE',\n",
      "       'home_ownership_OTHER', 'home_ownership_OWN', 'home_ownership_RENT',\n",
      "       'purpose_car', 'purpose_credit_card', 'purpose_debt_consolidation',\n",
      "       'purpose_educational', 'purpose_home_improvement', 'purpose_house',\n",
      "       'purpose_major_purchase', 'purpose_medical', 'purpose_moving',\n",
      "       'purpose_other', 'purpose_renewable_energy', 'purpose_small_business',\n",
      "       'purpose_vacation', 'purpose_wedding',\n",
      "       'verification_status_Not Verified',\n",
      "       'verification_status_Source Verified', 'verification_status_Verified'],\n",
      "      dtype='object')\n"
     ]
    }
   ],
   "source": [
    "# Encode categorical variables among features\n",
    "categorical_vars = ['home_ownership', 'purpose', 'verification_status']\n",
    "X = pd.get_dummies(X, columns=categorical_vars)\n",
    "print(\"{} features after encoding categorical variables: {}\".format(len(X.columns), X.columns))"
   ]
  },
  {
   "cell_type": "code",
   "execution_count": 47,
   "metadata": {
    "collapsed": false
   },
   "outputs": [
    {
     "name": "stdout",
     "output_type": "stream",
     "text": [
      "Training set: 11853 samples, test set: 5839 samples\n"
     ]
    }
   ],
   "source": [
    "# Split into training and test sets\n",
    "import sklearn.cross_validation\n",
    "from sklearn.cross_validation import train_test_split\n",
    "X_train, X_test, y_train, y_test = train_test_split(X, y, test_size=0.33, random_state=42)\n",
    "print(\"Training set: {} samples, test set: {} samples\".format(len(X_train), len(X_test)))"
   ]
  },
  {
   "cell_type": "code",
   "execution_count": 49,
   "metadata": {
    "collapsed": true
   },
   "outputs": [],
   "source": [
    "# Common sklearn imports\n",
    "from sklearn.metrics import classification_report\n",
    "\n",
    "# Define a simple train-predict utility function\n",
    "def train_predict(clf, X_train, X_test, y_train, y_test):\n",
    "    \"\"\"Train clf on <X_train, y_train>, predict <X_test, y_test>; return y_pred.\"\"\"\n",
    "    print(\"Training a {}...\".format(clf.__class__.__name__))\n",
    "    %time clf.fit(X_train, y_train)\n",
    "    print(clf)\n",
    "    \n",
    "    print(\"Predicting test labels...\")\n",
    "    y_pred = clf.predict(X_test)\n",
    "    return y_pred"
   ]
  },
  {
   "cell_type": "code",
   "execution_count": 50,
   "metadata": {
    "collapsed": false
   },
   "outputs": [
    {
     "name": "stdout",
     "output_type": "stream",
     "text": [
      "Training a DecisionTreeClassifier...\n",
      "CPU times: user 142 ms, sys: 5.39 ms, total: 148 ms\n",
      "Wall time: 203 ms\n",
      "DecisionTreeClassifier(class_weight=None, criterion='gini', max_depth=None,\n",
      "            max_features=None, max_leaf_nodes=None, min_samples_leaf=1,\n",
      "            min_samples_split=2, min_weight_fraction_leaf=0.0,\n",
      "            presort=False, random_state=42, splitter='best')\n",
      "Predicting test labels...\n",
      "             precision    recall  f1-score   support\n",
      "\n",
      "          0       0.88      0.86      0.87      5125\n",
      "          1       0.14      0.17      0.15       714\n",
      "\n",
      "avg / total       0.79      0.77      0.78      5839\n",
      "\n",
      "Top 10 important features:\n",
      "                       feature  importance\n",
      "6                          dti    0.136574\n",
      "5                   annual_inc    0.133306\n",
      "7                    revol_bal    0.133097\n",
      "8                   revol_util    0.116749\n",
      "3                  installment    0.114145\n",
      "2                     int_rate    0.113178\n",
      "0                    loan_amnt    0.060316\n",
      "4                   emp_length    0.056317\n",
      "23               purpose_other    0.011831\n",
      "16  purpose_debt_consolidation    0.011673\n"
     ]
    }
   ],
   "source": [
    "# Classify using a Decision Tree\n",
    "from sklearn.tree import DecisionTreeClassifier\n",
    "clf = DecisionTreeClassifier(random_state=42)\n",
    "y_pred = train_predict(clf, X_train, X_test, y_train, y_test)\n",
    "print(classification_report(y_test, y_pred))\n",
    "\n",
    "# Analyze feature importance\n",
    "feature_imps = pd.DataFrame({'feature': X_train.columns, 'importance': clf.feature_importances_})\n",
    "feature_imps.sort_values(by='importance', ascending=False, inplace=True)\n",
    "print(\"Top 10 important features:\")\n",
    "print(feature_imps[:10])"
   ]
  },
  {
   "cell_type": "code",
   "execution_count": 51,
   "metadata": {
    "collapsed": false
   },
   "outputs": [
    {
     "name": "stdout",
     "output_type": "stream",
     "text": [
      "Training a RandomForestClassifier...\n",
      "CPU times: user 185 ms, sys: 1.69 ms, total: 187 ms\n",
      "Wall time: 205 ms\n",
      "RandomForestClassifier(bootstrap=True, class_weight=None, criterion='gini',\n",
      "            max_depth=None, max_features='auto', max_leaf_nodes=None,\n",
      "            min_samples_leaf=1, min_samples_split=2,\n",
      "            min_weight_fraction_leaf=0.0, n_estimators=10, n_jobs=1,\n",
      "            oob_score=False, random_state=42, verbose=0, warm_start=False)\n",
      "Predicting test labels...\n",
      "             precision    recall  f1-score   support\n",
      "\n",
      "          0       0.88      0.99      0.93      5125\n",
      "          1       0.26      0.02      0.04       714\n",
      "\n",
      "avg / total       0.80      0.87      0.82      5839\n",
      "\n"
     ]
    }
   ],
   "source": [
    "# Classify using a Random Forest\n",
    "from sklearn.ensemble import RandomForestClassifier\n",
    "clf = RandomForestClassifier(n_estimators=10, random_state=42)\n",
    "y_pred = train_predict(clf, X_train, X_test, y_train, y_test)\n",
    "print(classification_report(y_test, y_pred))"
   ]
  },
  {
   "cell_type": "code",
   "execution_count": 52,
   "metadata": {
    "collapsed": false
   },
   "outputs": [
    {
     "name": "stdout",
     "output_type": "stream",
     "text": [
      "Training a GradientBoostingClassifier...\n",
      "CPU times: user 439 ms, sys: 5.39 ms, total: 445 ms\n",
      "Wall time: 483 ms\n",
      "GradientBoostingClassifier(init=None, learning_rate=1.0, loss='deviance',\n",
      "              max_depth=1, max_features=None, max_leaf_nodes=None,\n",
      "              min_samples_leaf=1, min_samples_split=2,\n",
      "              min_weight_fraction_leaf=0.0, n_estimators=100,\n",
      "              presort='auto', random_state=42, subsample=1.0, verbose=0,\n",
      "              warm_start=False)\n",
      "Predicting test labels...\n",
      "             precision    recall  f1-score   support\n",
      "\n",
      "          0       0.88      1.00      0.93      5125\n",
      "          1       0.24      0.01      0.01       714\n",
      "\n",
      "avg / total       0.80      0.88      0.82      5839\n",
      "\n"
     ]
    }
   ],
   "source": [
    "# Classify using a Gradient Boosting Classifier\n",
    "from sklearn.ensemble import GradientBoostingClassifier\n",
    "clf = GradientBoostingClassifier(n_estimators=100, max_depth=1, learning_rate=1.0, random_state=42)\n",
    "y_pred = train_predict(clf, X_train, X_test, y_train, y_test)\n",
    "print(classification_report(y_test, y_pred))"
   ]
  },
  {
   "cell_type": "code",
   "execution_count": null,
   "metadata": {
    "collapsed": true
   },
   "outputs": [],
   "source": []
  }
 ],
 "metadata": {
  "kernelspec": {
   "display_name": "Python 3",
   "language": "python",
   "name": "python3"
  },
  "language_info": {
   "codemirror_mode": {
    "name": "ipython",
    "version": 3
   },
   "file_extension": ".py",
   "mimetype": "text/x-python",
   "name": "python",
   "nbconvert_exporter": "python",
   "pygments_lexer": "ipython3",
   "version": "3.5.2"
  }
 },
 "nbformat": 4,
 "nbformat_minor": 0
}
